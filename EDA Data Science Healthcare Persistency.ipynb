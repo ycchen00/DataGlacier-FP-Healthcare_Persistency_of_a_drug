{
 "cells": [
  {
   "cell_type": "code",
   "execution_count": null,
   "metadata": {},
   "outputs": [],
   "source": [
    "#importing libraries\n",
    "import pandas as pd\n",
    "import matplotlib.pyplot as plt\n",
    "import seaborn as sns\n",
    "import numpy as np\n",
    "%matplotlib inline"
   ]
  },
  {
   "cell_type": "code",
   "execution_count": null,
   "metadata": {},
   "outputs": [],
   "source": [
    "#loading dataset\n",
    "df = pd.read_excel('C:\\Users\\acoll\\New folder\\Healthcare_dataset.csv')\n",
    "df.head()"
   ]
  },
  {
   "cell_type": "code",
   "execution_count": null,
   "metadata": {},
   "outputs": [],
   "source": [
    "# dataframe shape\n",
    "print(df.shape)\n",
    "# checking for duplicates\n",
    "print(df.Ptid.unique().shape)"
   ]
  },
  {
   "cell_type": "code",
   "execution_count": null,
   "metadata": {},
   "outputs": [],
   "source": [
    "# checking for missing variables\n",
    "df.isnull().sum()"
   ]
  },
  {
   "cell_type": "code",
   "execution_count": null,
   "metadata": {},
   "outputs": [],
   "source": [
    "# Check if there any missing values \n",
    "ax = df.isna().sum().sort_values().plot(kind = 'barh', figsize = (9, 10))\n",
    "plt.title('Percentage of Missing Values Per Column in Train Set', fontdict={'size':15})\n",
    "for p in ax.patches:\n",
    "    percentage ='{:,.0f}%'.format((p.get_width()/df.shape[0])*100)\n",
    "    width, height =p.get_width(),p.get_height()\n",
    "    x=p.get_x()+width+0.02\n",
    "    y=p.get_y()+height/2\n",
    "    ax.annotate(percentage,(x,y))"
   ]
  },
  {
   "cell_type": "code",
   "execution_count": null,
   "metadata": {},
   "outputs": [],
   "source": [
    "# dropping id column\n",
    "df.drop(['Ptid'], axis=1, inplace=True)\n",
    "df.head()"
   ]
  },
  {
   "cell_type": "code",
   "execution_count": null,
   "metadata": {},
   "outputs": [],
   "source": [
    "#getting variable dtypes\n",
    "df.dtypes"
   ]
  },
  {
   "cell_type": "code",
   "execution_count": null,
   "metadata": {},
   "outputs": [],
   "source": [
    "cat_cols = list(df.select_dtypes(['object']).columns)\n",
    "print(len(cat_cols))\n",
    "cat_cols"
   ]
  },
  {
   "cell_type": "code",
   "execution_count": null,
   "metadata": {},
   "outputs": [],
   "source": [
    "num_cols = list(df.select_dtypes(['int64']).columns)\n",
    "print(len(num_cols))\n",
    "num_cols"
   ]
  },
  {
   "cell_type": "code",
   "execution_count": null,
   "metadata": {},
   "outputs": [],
   "source": [
    "df.describe()"
   ]
  },
  {
   "cell_type": "code",
   "execution_count": null,
   "metadata": {},
   "outputs": [],
   "source": [
    "# ploting histogram for numerical columns\n",
    "def plot_histogram(df, cols, bins=6):\n",
    "    for col in cols:\n",
    "        fig = plt.figure(figsize=(6,4))\n",
    "        ax= fig.gca()\n",
    "        df[col].plot.hist(ax = ax, bins = bins, color = 'blue')\n",
    "        ax.set_title('Histogram of ' + col)\n",
    "        ax.set_xlabel(col)\n",
    "        ax.set_ylabel('Number')\n",
    "        plt.show()\n",
    "plot_histogram(df, num_cols)"
   ]
  },
  {
   "cell_type": "code",
   "execution_count": null,
   "metadata": {},
   "outputs": [],
   "source": [
    "# measuring skewness and kurtosis of numerical columns\n",
    "def measure_skew_kurtosis(cols):\n",
    "    for col in cols:\n",
    "        print(col)\n",
    "        result = df[[col]].agg(['skew', 'kurtosis']).transpose()\n",
    "        print(result)\n",
    "measure_skew_kurtosis(num_cols)"
   ]
  },
  {
   "cell_type": "code",
   "execution_count": null,
   "metadata": {},
   "outputs": [],
   "source": [
    "# creating a box plot of numerical columns to identify outliers\n",
    "def boxplot(df, cols):\n",
    "    for col in cols:\n",
    "        sns.set_style('whitegrid')\n",
    "        sns.boxplot(y=col, data=df)\n",
    "        plt.title('Boxplot of ' + col)\n",
    "        plt.ylabel(col) #setting text for y axis\n",
    "        plt.show()\n",
    "boxplot(df, num_cols)"
   ]
  },
  {
   "cell_type": "code",
   "execution_count": null,
   "metadata": {},
   "outputs": [],
   "source": [
    "# min-max normalization\n",
    "from sklearn.preprocessing import MinMaxScaler\n",
    "scaler = MinMaxScaler()\n",
    "df_min_max = df.copy() #getting a copy of dataframe\n",
    "for col in num_cols:\n",
    "    data = np.array(df_min_max[[col]])\n",
    "    scaler.fit(data)#computing min and max to be used for scaling\n",
    "    df['min_max_'+col] = scaler.transform(data) \n",
    "    measure_skew_kurtosis(['min_max_'+col]) #measure skewness and kurtosis\n",
    "    plot_histogram(df, ['min_max_'+col])# plot histogram\n",
    "    boxplot(df, ['min_max_'+col])#plot a box plot"
   ]
  },
  {
   "cell_type": "code",
   "execution_count": null,
   "metadata": {},
   "outputs": [],
   "source": [
    "# square root transformation\n",
    "for col in num_cols:\n",
    "    df['sqrt_'+col] = np.sqrt(df[col])\n",
    "    measure_skew_kurtosis(['sqrt_'+col]) #measure skewness and kurtosis\n",
    "    plot_histogram(df, ['sqrt_'+col]) # plot histogram\n",
    "    boxplot(df, ['sqrt_'+col])#plot a box plot"
   ]
  },
  {
   "cell_type": "code",
   "execution_count": null,
   "metadata": {},
   "outputs": [],
   "source": [
    "# log transformation\n",
    "for col in num_cols:\n",
    "    df['log_'+col] = np.log1p(df[col])\n",
    "    measure_skew_kurtosis(['log_'+col]) #measure skewness and kurtosis\n",
    "    plot_histogram(df, ['log_'+col]) # plot histogram\n",
    "    boxplot(df, ['log_'+col])#plot a box plot"
   ]
  },
  {
   "cell_type": "code",
   "execution_count": null,
   "metadata": {},
   "outputs": [],
   "source": [
    "#summary of numerical columns\n",
    "df.describe()"
   ]
  },
  {
   "cell_type": "code",
   "execution_count": null,
   "metadata": {},
   "outputs": [],
   "source": [
    "# creating a new numerical list\n",
    "num_cols = list(df.select_dtypes(['int64', 'float64']).columns)\n",
    "print(len(num_cols))\n",
    "num_cols"
   ]
  },
  {
   "cell_type": "code",
   "execution_count": null,
   "metadata": {},
   "outputs": [],
   "source": [
    "# creating a box plot of numerical columns against persitency flag to identify outliers\n",
    "def boxplot(df, cols):\n",
    "    for col in cols:\n",
    "        sns.set_style('whitegrid')\n",
    "        sns.boxplot(x='Persistency_Flag', y=col, data=df)\n",
    "        plt.title('Boxplot of ' + col)\n",
    "        plt.ylabel(col) #setting text for y axis\n",
    "        plt.show()\n",
    "boxplot(df, num_cols)"
   ]
  },
  {
   "cell_type": "markdown",
   "metadata": {},
   "source": [
    "EDA"
   ]
  },
  {
   "cell_type": "markdown",
   "metadata": {},
   "source": [
    "1. Qualitative Analysis"
   ]
  },
  {
   "cell_type": "code",
   "execution_count": null,
   "metadata": {},
   "outputs": [],
   "source": [
    "#checking for number of values in categorical columns\n",
    "df[cat_cols].nunique()"
   ]
  },
  {
   "cell_type": "code",
   "execution_count": null,
   "metadata": {},
   "outputs": [],
   "source": [
    "# value counts for categorical variables\n",
    "def count_value(df, cols):\n",
    "    for col in cols:\n",
    "        print('\\n' + 'For column ' + col)\n",
    "        print(df[col].value_counts())\n",
    "count_value(df, cat_cols)"
   ]
  },
  {
   "cell_type": "code",
   "execution_count": null,
   "metadata": {},
   "outputs": [],
   "source": [
    "#bar graph for value counts for categorical columns\n",
    "def plot_catcols(x, df):\n",
    "    df['dummy'] = np.ones(shape = df.shape[0])\n",
    "    for col in x:\n",
    "        print(col)\n",
    "        counts = df[['dummy', col]].groupby([col], as_index = False).count()\n",
    "        fig, ax = plt.subplots(figsize = (8,4))\n",
    "        graph = plt.barh(counts[col], counts.dummy) #creating a graph\n",
    "        plt.xticks(rotation=90)\n",
    "        plt.title('Counts for ' + col)\n",
    "        plt.xlabel('count')\n",
    "        #getting percentages\n",
    "        total = counts['dummy'].sum()\n",
    "        percentage = []\n",
    "        for i in range(counts.shape[0]):\n",
    "            pct = (counts.dummy[i]/total)*100\n",
    "            percentage.append(round(pct, 2))\n",
    "        counts['Percentage'] = percentage\n",
    "        # plotting the graph with percentages\n",
    "        i = 0\n",
    "        for p in graph:\n",
    "            pct = f'{percentage[i]}%'\n",
    "            width1, height1 =p.get_width(),p.get_height()\n",
    "            x1 =p.get_x()+width1\n",
    "            y1=p.get_y()+height1/2\n",
    "            ax.annotate(pct,(x1,y1))\n",
    "            i+=1\n",
    "        plt.show()\n",
    "plot_catcols(cat_cols, df)"
   ]
  },
  {
   "cell_type": "code",
   "execution_count": null,
   "metadata": {},
   "outputs": [],
   "source": [
    "# removing persistency flag form categorical columns\n",
    "cat_cols.remove('Persistency_Flag')"
   ]
  },
  {
   "cell_type": "code",
   "execution_count": null,
   "metadata": {},
   "outputs": [],
   "source": [
    "from IPython.display import display"
   ]
  },
  {
   "cell_type": "code",
   "execution_count": null,
   "metadata": {},
   "outputs": [],
   "source": [
    "# visualize class separation by categorical features\n",
    "for col in cat_cols:\n",
    "    print(' ')\n",
    "    print(col)\n",
    "    print(' ')\n",
    "    counts = df[['dummy', 'Persistency_Flag', col]].groupby(['Persistency_Flag', col], as_index = False).count()\n",
    "    display(counts)\n",
    "    _ = plt.figure(figsize = (10,4))\n",
    "    plt.subplot(1, 2, 1)\n",
    "    temp1 = counts[counts['Persistency_Flag'] == 'Non-Persistent'][[col, 'dummy']]\n",
    "    plt.bar(temp1[col], temp1.dummy)\n",
    "    plt.xticks(rotation=90)\n",
    "    plt.title('Counts for ' + col + '\\n not persistent')\n",
    "    plt.ylabel('count')\n",
    "    plt.subplot(1, 2, 2)\n",
    "    temp2 = counts[counts['Persistency_Flag'] == 'Persistent'][[col, 'dummy']]\n",
    "    plt.bar(temp2[col], temp2.dummy)\n",
    "    plt.xticks(rotation=90)\n",
    "    plt.title('Counts for ' + col + '\\n persistent')\n",
    "    plt.ylabel('count')\n",
    "    plt.show()"
   ]
  },
  {
   "cell_type": "code",
   "execution_count": null,
   "metadata": {},
   "outputs": [],
   "source": [
    "df.Persistency_Flag = (df.Persistency_Flag == 'Persistent').astype(int)#turning target variable to int"
   ]
  },
  {
   "cell_type": "code",
   "execution_count": null,
   "metadata": {},
   "outputs": [],
   "source": [
    "df.Persistency_Flag.head()"
   ]
  },
  {
   "cell_type": "code",
   "execution_count": null,
   "metadata": {},
   "outputs": [],
   "source": [
    "#getting global mean for those who are persistent\n",
    "global_persistency = df.Persistency_Flag.mean()\n",
    "global_persistency"
   ]
  },
  {
   "cell_type": "code",
   "execution_count": null,
   "metadata": {},
   "outputs": [],
   "source": [
    "for col in cat_cols:\n",
    "    print(col)\n",
    "    df_group = df.groupby(col).Persistency_Flag.agg(['mean', 'count'])\n",
    "    df_group['diff'] = df_group['mean'] - global_persistency\n",
    "    df_group['risk'] = df_group['mean'] / global_persistency\n",
    "    display(df_group)\n",
    "    print()\n",
    "    print()"
   ]
  },
  {
   "cell_type": "code",
   "execution_count": null,
   "metadata": {},
   "outputs": [],
   "source": [
    "df_group.head()"
   ]
  },
  {
   "cell_type": "markdown",
   "metadata": {},
   "source": [
    "2. Quantitative Analysis"
   ]
  },
  {
   "cell_type": "code",
   "execution_count": null,
   "metadata": {},
   "outputs": [],
   "source": [
    "#mutual information scores for the categorical variables\n",
    "from sklearn.metrics import mutual_info_score\n",
    "#creating a function\n",
    "def mutual_info_churn_score(series):\n",
    "    return mutual_info_score(series, df.Persistency_Flag)"
   ]
  },
  {
   "cell_type": "code",
   "execution_count": null,
   "metadata": {},
   "outputs": [],
   "source": [
    "mi = df[cat_cols].apply(mutual_info_churn_score) #getting mutual info scores\n",
    "pd.set_option('display.max_rows', None) #setting to print all rows\n",
    "print(mi.sort_values(ascending=False)) #sorting in descending order"
   ]
  },
  {
   "cell_type": "code",
   "execution_count": null,
   "metadata": {},
   "outputs": [],
   "source": [
    "#mi scores to dataframe\n",
    "mi_score = mi.sort_values(ascending=False)\n",
    "type(mi_score)\n",
    "mi_df = mi_score.to_frame()\n",
    "mi_df"
   ]
  },
  {
   "cell_type": "code",
   "execution_count": null,
   "metadata": {},
   "outputs": [],
   "source": [
    "#quantitative analysis\n",
    "#chi square test (test of independence)\n",
    "#creating a function for chi square test\n",
    "def chi_square_test(col):\n",
    "    print('Ho:Persistency is not dependent on '+col)\n",
    "    print('H1:Persistency is dependent on '+col)\n",
    "    import scipy.stats as stats #importing stats\n",
    "    #creating a contigency table\n",
    "    value_list = df[col].unique().tolist()#creating list of column values\n",
    "    for value in value_list:\n",
    "        data_crosstab = pd.crosstab(df['Persistency_Flag']==1,df[col]==value,\n",
    "                                margins=True, margins_name=\"Total\")\n",
    "    # significance level\n",
    "    alpha = 0.05\n",
    "    # Calcualtion of Chisquare test statistics\n",
    "    chi_square = 0\n",
    "    rows = (df['Persistency_Flag']==1).unique()\n",
    "    columns = (df[col]==value).unique()\n",
    "    for i in columns:\n",
    "        for j in rows:\n",
    "            O = data_crosstab[i][j]\n",
    "            E = data_crosstab[i]['Total'] * data_crosstab['Total'][j] / data_crosstab['Total']['Total']\n",
    "            chi_square += (O-E)**2/E\n",
    "    # The p-value approach\n",
    "    p_value = 1 - stats.norm.cdf(chi_square, (len(rows)-1)*(len(columns)-1))\n",
    "    conclusion = \"Failed to reject the null hypothesis.\"\n",
    "    if p_value <= alpha:\n",
    "        conclusion = \"Null Hypothesis is rejected.\"\n",
    "\n",
    "    print(\"chisquare-score is:\", chi_square, \" and p value is:\", p_value)\n",
    "    print(conclusion)"
   ]
  },
  {
   "cell_type": "code",
   "execution_count": null,
   "metadata": {},
   "outputs": [],
   "source": [
    "#getting chi square test for the categorical columns\n",
    "for col in cat_cols:\n",
    "    print(col)\n",
    "    chi_square_test(col)\n",
    "    print(' ')"
   ]
  },
  {
   "cell_type": "code",
   "execution_count": null,
   "metadata": {},
   "outputs": [],
   "source": [
    "#correlation of numerical columns with persistency\n",
    "num_corr = df[num_cols].corrwith(df.Persistency_Flag)\n",
    "#converting to dataframe\n",
    "corr_df = num_corr.to_frame()\n",
    "corr_df"
   ]
  },
  {
   "cell_type": "code",
   "execution_count": null,
   "metadata": {},
   "outputs": [],
   "source": [
    "corr = df.corr()"
   ]
  },
  {
   "cell_type": "code",
   "execution_count": null,
   "metadata": {},
   "outputs": [],
   "source": [
    "ax = sns.heatmap(\n",
    "    corr, \n",
    "    vmin=-1, vmax=1, center=0,\n",
    "    cmap=sns.diverging_palette(400, 3000, n=400),\n",
    "    square=True\n",
    ")\n",
    "ax.set_xticklabels(\n",
    "    ax.get_xticklabels(),\n",
    "    rotation=45,\n",
    "    horizontalalignment='right'\n",
    ");"
   ]
  },
  {
   "cell_type": "code",
   "execution_count": null,
   "metadata": {},
   "outputs": [],
   "source": [
    "# Generate a mask for the upper triangle\n",
    "mask = np.zeros_like(corr, dtype=np.bool)\n",
    "mask[np.triu_indices_from(mask)] = True\n",
    "\n",
    "# Set up the matplotlib figure\n",
    "f, ax = plt.subplots(figsize=(11, 9))\n",
    "\n",
    "# Generate a custom diverging colormap\n",
    "cmap = sns.diverging_palette(220, 10, as_cmap=True)\n",
    "#cmap = sns.diverging_palette(20, 220, n=400)\n",
    "\n",
    "# Draw the heatmap with the mask and correct aspect ratio\n",
    "ax = sns.heatmap(corr, mask=mask, cmap=cmap, vmax=1, center=0,\n",
    "            square=True, linewidths=.5, cbar_kws={\"shrink\": .7})\n",
    "ax.set_xticklabels(\n",
    "    ax.get_xticklabels(),\n",
    "    rotation=45,\n",
    "    horizontalalignment='right'\n",
    ");\n"
   ]
  },
  {
   "cell_type": "code",
   "execution_count": null,
   "metadata": {},
   "outputs": [],
   "source": [
    "#ANOVA test\n",
    "#creating a function for the ANOVA test\n",
    "def ANOVA(df, col='Dexa_Freq_During_Rx'):\n",
    "    #creating the hypothesis\n",
    "    print('Ho:Persistency is not positively correlated with ' + col)\n",
    "    print('H1:Persistency is positively correlated with ' + col)\n",
    "    df = df[[col, 'Persistency_Flag']]\n",
    "    persistent = df[col][df['Persistency_Flag']==1]\n",
    "    persistent = persistent.to_numpy()\n",
    "    not_persistent = df[col][df['Persistency_Flag']==0]\n",
    "    not_persistent = not_persistent.to_numpy()\n",
    "    #one-way ANOVA\n",
    "    import scipy.stats as stats\n",
    "    fvalue, pvalue = stats.f_oneway(persistent, not_persistent)\n",
    "    print('fvalue='+str(fvalue))\n",
    "    print('pvalue='+str(pvalue))\n",
    "    if pvalue <= 0.05:\n",
    "        print('Null hypothesis is rejected')\n",
    "    else:\n",
    "        print('Failed to reject the Null hypothesis')\n",
    "#getting anova test for the numerical columns\n",
    "for col in num_cols:\n",
    "    print(col)\n",
    "    ANOVA(df, col)\n",
    "    print(' ')"
   ]
  },
  {
   "cell_type": "code",
   "execution_count": null,
   "metadata": {},
   "outputs": [],
   "source": []
  }
 ],
 "metadata": {
  "kernelspec": {
   "display_name": "Python 3.11 64-bit (microsoft store)",
   "language": "python",
   "name": "python3"
  },
  "language_info": {
   "codemirror_mode": {
    "name": "ipython",
    "version": 3
   },
   "file_extension": ".py",
   "mimetype": "text/x-python",
   "name": "python",
   "nbconvert_exporter": "python",
   "pygments_lexer": "ipython3",
   "version": "3.11"
  },
  "vscode": {
   "interpreter": {
    "hash": "e457c5311e80ba574586efe204d12594955c2a1d4c0f9c849d2ff6c5c9186fa9"
   }
  }
 },
 "nbformat": 4,
 "nbformat_minor": 4
}
